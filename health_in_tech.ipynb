{
  "nbformat": 4,
  "nbformat_minor": 0,
  "metadata": {
    "colab": {
      "name": "health_in_tech.ipynb",
      "provenance": [],
      "collapsed_sections": [],
      "private_outputs": true,
      "authorship_tag": "ABX9TyP7U8seBp5fc98JihkEI9J/",
      "include_colab_link": true
    },
    "kernelspec": {
      "name": "python3",
      "display_name": "Python 3"
    },
    "language_info": {
      "name": "python"
    }
  },
  "cells": [
    {
      "cell_type": "markdown",
      "metadata": {
        "id": "view-in-github",
        "colab_type": "text"
      },
      "source": [
        "<a href=\"https://colab.research.google.com/github/giani-reyess/EDA_of_Health_in_Tech/blob/master/health_in_tech.ipynb\" target=\"_parent\"><img src=\"https://colab.research.google.com/assets/colab-badge.svg\" alt=\"Open In Colab\"/></a>"
      ]
    },
    {
      "cell_type": "code",
      "execution_count": null,
      "metadata": {
        "id": "6pfHcLd7sv0G"
      },
      "outputs": [],
      "source": [
        "import pandas as pd\n",
        "import numpy as np\n",
        "import seaborn as sns"
      ]
    },
    {
      "cell_type": "code",
      "source": [
        "# https://www.kaggle.com/osmi/mental-health-in-tech-survey?select=survey.csv\n",
        "df = pd.read_csv('./sample_data/survey.csv')\n",
        "df"
      ],
      "metadata": {
        "id": "iO8U1QF6t7PY"
      },
      "execution_count": null,
      "outputs": []
    },
    {
      "cell_type": "code",
      "source": [
        "df_copy = df.copy(deep=True)"
      ],
      "metadata": {
        "id": "prHt8bmXMRyU"
      },
      "execution_count": null,
      "outputs": []
    },
    {
      "cell_type": "code",
      "source": [
        "# Making a copy of the original dataset\n",
        "# df_copy = df_copy.convert_dtypes()\n",
        "df_copy "
      ],
      "metadata": {
        "id": "jdkcNXwAJtsl"
      },
      "execution_count": null,
      "outputs": []
    },
    {
      "cell_type": "code",
      "source": [
        "# Filter all categoric variables from DataFrame\n",
        "categorics_filter = df_copy.iloc[:,2:]\n",
        "categ_keys = categorics_filter.keys()\n",
        "\n",
        "# Process all categorics with one-hot encoding\n",
        "categ_dummies = pd.get_dummies(df[categ_keys])\n"
      ],
      "metadata": {
        "id": "9G0OgWGhTgfj"
      },
      "execution_count": null,
      "outputs": []
    },
    {
      "cell_type": "code",
      "source": [
        "categ_dummies.copy"
      ],
      "metadata": {
        "id": "pHuciHKjXKh4"
      },
      "execution_count": null,
      "outputs": []
    }
  ]
}